{
 "cells": [
  {
   "cell_type": "markdown",
   "id": "domestic-durham",
   "metadata": {},
   "source": [
    "# A collection of domains that spread unreliable information"
   ]
  },
  {
   "cell_type": "markdown",
   "id": "broke-removal",
   "metadata": {},
   "source": [
    "**License**: You can use the code in this script according to a [CC0 1.0](https://creativecommons.org/publicdomain/zero/1.0/deed.en) license (no copyright)."
   ]
  },
  {
   "cell_type": "markdown",
   "id": "infinite-depth",
   "metadata": {},
   "source": [
    "The collection is based on a list initially compiled by [Galotti et al. 2020](https://www.nature.com/articles/s41562-020-00994-6#Sec4) and was since expanded with updated versions of the initial domain collections and extended by additional curated lists. A cleaned and de-duplicated list ist stored under ```data/clean```."
   ]
  },
  {
   "cell_type": "markdown",
   "id": "wrong-oxygen",
   "metadata": {},
   "source": [
    "## Collection descriptions"
   ]
  },
  {
   "cell_type": "markdown",
   "id": "vocational-construction",
   "metadata": {},
   "source": [
    "The lists that are ingested and combined into a larger list below stem from several sources. Some of them fact-checking collectives, some of them individual scholars or journalists that collected and curated lists of domains that spread unreliable information. Snapshots of the lists that were taken on May 18th 2021 are stored under ```data/raw```. The table below lists the individual collections included in this meta-list:"
   ]
  },
  {
   "cell_type": "markdown",
   "id": "regional-blogger",
   "metadata": {},
   "source": [
    "| Author | Article | List source | Included | Lat update | Note |\n",
    "| ------ | ------- | ----------- | -------- | ---------- | ---- |\n",
    "| Melissa Zimdars | https://www.washingtonpost.com/posteverything/wp/2016/11/18/my-fake-news-list-went-viral-but-made-up-stories-are-only-part-of-the-problem/ | https://docs.google.com/document/d/10eA5-mCZLSS4MQY5QGb5ewC3VAL6pLkT53V_81ZyitM/preview | yes | 2016 | It is a bit unclear when this list was last updated |\n",
    "Buzzfeed | https://www.buzzfeednews.com/article/craigsilverman/inside-the-partisan-fight-for-your-news-feed | https://github.com/BuzzFeedNews/2017-08-partisan-sites-and-facebook-pages/tree/master/data | yes | 2018-08-08 | |\n",
    "Fake news watch | https://web.archive.org/web/20180213181029/http://www.fakenewswatch.com/ | https://web.archive.org/web/20180213181029/http://www.fakenewswatch.com/ | yes | 2016-01-18 | | \n",
    "Politifact | https://www.politifact.com/article/2017/apr/20/politifacts-guide-fake-news-websites-and-what-they/ | https://e.infogr.am/politifacts_fake_news_almanac?parent_url=https%3A%2F%2Fwww.politifact.com%2Farticle%2F2017%2Fapr%2F20%2Fpolitifacts-guide-fake-news-websites-and-what-they%2F&src=embed# | yes | 2017-11-09 | |\n",
    "Fletcher et al. | https://reutersinstitute.politics.ox.ac.uk/our-research/measuring-reach-fake-news-and-online-disinformation-europe | Is a compilation of individual smaller lists (Butac, Bufale, Bufalopedia and Décodex) in itself | see below | see below | several smaller lists, mainly focused on Italian and French misinformation spreading domains |\n",
    "Butac | https://reutersinstitute.politics.ox.ac.uk/our-research/measuring-reach-fake-news-and-online-disinformation-europ | https://www.butac.it/the-black-list/ | yes | 2021-05-18 | Mostly italian sites, domain names cleaned and expanded manually, facebook pages excluded |\n",
    "Bufale | https://reutersinstitute.politics.ox.ac.uk/our-research/measuring-reach-fake-news-and-online-disinformation-europ | https://www.bufale.net/the-black-list-la-lista-nera-del-web/ | yes | 2018 | labels translated to English by italian native speaker | \n",
    "Bufalopedia | https://reutersinstitute.politics.ox.ac.uk/our-research/measuring-reach-fake-news-and-online-disinformation-europ | https://bufalopedia.blogspot.com/p/siti-creatori-di-bufale.html | yes | 2020-05-05 | Mostly Italian sites, some international, changed label of “the onion” from fake news to satire. “Fake news” label reflects international sites |\n",
    "Décodex | https://reutersinstitute.politics.ox.ac.uk/our-research/measuring-reach-fake-news-and-online-disinformation-europ | https://www.lemonde.fr/verification/ | no | unknown | French fact checking service from le Monde, no access established yet |\n",
    "Girnberg et al. | https://science.sciencemag.org/content/363/6425/374.abstract | https://github.com/LazerLab/twitter-fake-news-replication/blob/master/domains/domain_coding/data/black_sites.txt | yes | 2019-01-28 | | \n",
    "Media bias fact check | https://mediabiasfactcheck.com/ | Various sub-sites with link lists | yes | 2021-05-21 | domains are labelled by the sub-site they appear on |\n",
    "Snopes’ field guide to fake news sites | | https://www.snopes.com/news/2016/01/14/fake-news-sites/ | see below | 2016-01-14 | one of the sources of the CJR list |\n",
    "FakeNewsCodes | | http://www.fakenewscodex.com/ | see below | 2018-12-05 | one of the sources of the CJR list |\n",
    "FactCheck.org | | https://www.factcheck.org/2017/07/websites-post-fake-satirical-stories/ | see below | 2018-11-02 | one of the sources of the CJR list |\n",
    "Columbia Journalism review | https://www.cjr.org/fake-beta | https://www.cjr.org/fake-beta and more detailed data at https://docs.google.com/spreadsheets/d/1ck1_FZC-97uDLIlvRJDTrGqBk0FuDe9yHkluROgpGS8/edit#gid=2037798083 | yes | 2021-04 | Up-to-date compilation of lists from FactCheck.org, FakeNewsCodex, OpenSources, PolitiFact and Snopes. Entries with more than one label were expanded into several rows|"
   ]
  },
  {
   "cell_type": "code",
   "execution_count": 1,
   "id": "voluntary-borough",
   "metadata": {},
   "outputs": [],
   "source": [
    "import pandas as pd\n",
    "from os.path import join\n",
    "import seaborn as sns\n",
    "import re\n",
    "\n",
    "import requests\n",
    "import os\n",
    "import json\n",
    "import matplotlib.pyplot as plt"
   ]
  },
  {
   "cell_type": "markdown",
   "id": "cooked-heather",
   "metadata": {},
   "source": [
    "## Combine domain lists"
   ]
  },
  {
   "cell_type": "markdown",
   "id": "synthetic-wages",
   "metadata": {},
   "source": [
    "### Read the raw data"
   ]
  },
  {
   "cell_type": "code",
   "execution_count": 11,
   "id": "spatial-formula",
   "metadata": {},
   "outputs": [],
   "source": [
    "src  = 'data/raw'"
   ]
  },
  {
   "cell_type": "code",
   "execution_count": 6,
   "id": "brutal-difference",
   "metadata": {},
   "outputs": [],
   "source": [
    "# source/author : latest update\n",
    "sources = {'bufale':'2018',\n",
    "           'bufalopedia':'2020-05-05',\n",
    "           'butac':'2021-05-18',\n",
    "           'buzzfeed':'2017-08-08',\n",
    "           'columbia_journalism_review':'2021-04',\n",
    "           'fake_news_watch':'2016-01-18',\n",
    "           'girnberg':'2019-01-28',\n",
    "           'media_bias_fact_check':'2021-05-17',\n",
    "           'politifact':'2017-11-09',\n",
    "           'zimdars':'2016'}"
   ]
  },
  {
   "cell_type": "code",
   "execution_count": 23,
   "id": "magnetic-amount",
   "metadata": {},
   "outputs": [
    {
     "data": {
      "text/html": [
       "<div>\n",
       "<style scoped>\n",
       "    .dataframe tbody tr th:only-of-type {\n",
       "        vertical-align: middle;\n",
       "    }\n",
       "\n",
       "    .dataframe tbody tr th {\n",
       "        vertical-align: top;\n",
       "    }\n",
       "\n",
       "    .dataframe thead th {\n",
       "        text-align: right;\n",
       "    }\n",
       "</style>\n",
       "<table border=\"1\" class=\"dataframe\">\n",
       "  <thead>\n",
       "    <tr style=\"text-align: right;\">\n",
       "      <th></th>\n",
       "      <th>url</th>\n",
       "      <th>label</th>\n",
       "      <th>source</th>\n",
       "      <th>last_update</th>\n",
       "    </tr>\n",
       "  </thead>\n",
       "  <tbody>\n",
       "    <tr>\n",
       "      <th>6939</th>\n",
       "      <td>Zengardner.com</td>\n",
       "      <td>unknown</td>\n",
       "      <td>zimdars</td>\n",
       "      <td>2016</td>\n",
       "    </tr>\n",
       "    <tr>\n",
       "      <th>6940</th>\n",
       "      <td>zerohedge.com</td>\n",
       "      <td>conspiracy</td>\n",
       "      <td>zimdars</td>\n",
       "      <td>2016</td>\n",
       "    </tr>\n",
       "    <tr>\n",
       "      <th>6941</th>\n",
       "      <td>zootfeed.com</td>\n",
       "      <td>conspiracy</td>\n",
       "      <td>zimdars</td>\n",
       "      <td>2016</td>\n",
       "    </tr>\n",
       "  </tbody>\n",
       "</table>\n",
       "</div>"
      ],
      "text/plain": [
       "                 url       label   source last_update\n",
       "6939  Zengardner.com     unknown  zimdars        2016\n",
       "6940   zerohedge.com  conspiracy  zimdars        2016\n",
       "6941    zootfeed.com  conspiracy  zimdars        2016"
      ]
     },
     "execution_count": 23,
     "metadata": {},
     "output_type": "execute_result"
    }
   ],
   "source": [
    "domain_list = pd.DataFrame()\n",
    "for source, updated in sources.items():\n",
    "    fname = '{}_{}.csv'.format(source, updated)\n",
    "    tmp = pd.read_csv(join(src, fname), usecols=['url', 'label'])\n",
    "    tmp['source'] = source\n",
    "    tmp['last_update'] = updated\n",
    "    domain_list = pd.concat([domain_list, tmp])\n",
    "domain_list = domain_list.reset_index(drop=True)\n",
    "domain_list.tail(3)"
   ]
  },
  {
   "cell_type": "markdown",
   "id": "remarkable-bargain",
   "metadata": {},
   "source": [
    "### Sanitize domains"
   ]
  },
  {
   "cell_type": "code",
   "execution_count": 24,
   "id": "viral-antenna",
   "metadata": {},
   "outputs": [],
   "source": [
    "def clean_url(url):\n",
    "    # reformat entries that have the domain after a general name in parantheses\n",
    "    if url.find('(') > 0:\n",
    "        url = url.split('(')[-1]\n",
    "        url = url.strip(')')\n",
    "    # remove trailing slashes and spaces\n",
    "    url = url.strip('/').strip()\n",
    "    # transform all domains to lowercase\n",
    "    url = url.lower()\n",
    "    # remove spaces\n",
    "    url = url.replace(' ', '')\n",
    "    # if present: remove the protocol\n",
    "    if url.startswith((\"http\", \"https\")):\n",
    "        url = url.split('//')[1]\n",
    "    # remove \"www.\" \n",
    "    url = url.replace('www.', '')\n",
    "    return url"
   ]
  },
  {
   "cell_type": "code",
   "execution_count": 25,
   "id": "spanish-girlfriend",
   "metadata": {},
   "outputs": [
    {
     "name": "stdout",
     "output_type": "stream",
     "text": [
      "dropped 2 empty domain entries\n"
     ]
    }
   ],
   "source": [
    "# drop entries that do not list a domain name\n",
    "N = len(domain_list)\n",
    "domain_list = domain_list.dropna(subset=['url']).reset_index(drop=True)\n",
    "print('dropped {} empty domain entries'.format(N - len(domain_list)))\n",
    "# sanitize the remaining domains\n",
    "domain_list['url'] = domain_list['url'].apply(clean_url)"
   ]
  },
  {
   "cell_type": "code",
   "execution_count": 26,
   "id": "complimentary-administrator",
   "metadata": {},
   "outputs": [
    {
     "data": {
      "image/png": "[encoded data removed]",
      "text/plain": [
       "<Figure size 576x360 with 1 Axes>"
      ]
     },
     "metadata": {
      "needs_background": "light"
     },
     "output_type": "display_data"
    }
   ],
   "source": [
    "fig, ax = plt.subplots(figsize=(8, 5))\n",
    "list_count = domain_list['url'].value_counts()\n",
    "ax.hist(list_count, rwidth=0.8, align='left',\n",
    "        bins=range(1, list_count.max() + 1))\n",
    "ax.set_ylabel('domain count', fontsize=16)\n",
    "ax.set_xlabel('# lists', fontsize=16)\n",
    "ax.set_xticks(range(1, list_count.max() + 1))\n",
    "ax.set_title('Duplicated domains across lists', fontsize=16)\n",
    "ax.spines['right'].set_visible(False)\n",
    "ax.spines['top'].set_visible(False)"
   ]
  },
  {
   "cell_type": "markdown",
   "id": "dried-shape",
   "metadata": {},
   "source": [
    "## Assign harm scores to labels"
   ]
  },
  {
   "cell_type": "markdown",
   "id": "concerned-trinidad",
   "metadata": {},
   "source": [
    "The following is based on the harm-score assignment to labels individually devised by [Galotti 2020 et al.](https://www.nature.com/articles/s41562-020-00994-6/tables/1), table 1, reproduced here: "
   ]
  },
  {
   "cell_type": "markdown",
   "id": "mysterious-destruction",
   "metadata": {},
   "source": [
    "Category | Harm Score | Description | Type\n",
    "---------|:----------:|-------------|:---:\n",
    "Science | 1 | Domains providing content validated via scientific scrutiny. | Reliable\n",
    "Mainstream media | 2 | Domains providing content that is generally subjected to professional fact checking and abides by the rules of media accountability. | Reliable\n",
    "Satire | 3 | Domains providing content that is intentionally and explicitly aiming at providing a distorted representation of events as a form of humour and/or social critique. | Unreliable\n",
    "Clickbait | 4 | Domains providing content that generally distorts or intentionally misrepresents information to capture attention. | Unreliable \n",
    "Political | 7 | Domains providing content that presents a partisan representation and interpretation of facts to support a political position over rival ones.\n",
    "Fake or hoax | 8 | Domains providing manipulative and fabricated content with the purpose of misleading public opinion on socially relevant issues and provoking inflammatory responses. | Unreliable\n",
    "Conspiracy and junk science | 9 | Domains providing systematically manipulative and fabricated content with the purpose of legitimizing implausible conceptualizations of facts and knowledge through argumentative methods that coarsely mimic those of scientific reasoning but without any sound logical or factual basis, targeting individuals or social groups as covert instigators or perpetrators of harmful actions. | Unreliable\n",
    "Other | 5 | Domains pointing to general content that cannot be easily classified, such as videos on YouTube. | Unknown\n",
    "Shadow | 6 | Domains related to URL shortening that cannot be classified a priori but would require further URL expansion. | Unknown"
   ]
  },
  {
   "cell_type": "markdown",
   "id": "unavailable-producer",
   "metadata": {},
   "source": [
    "Since our combined list has a larger number of different labels, we need to expand on that mapping to include the labels not covered by the initial mapping. The extended mapping is given below:"
   ]
  },
  {
   "cell_type": "code",
   "execution_count": 28,
   "id": "coordinate-drama",
   "metadata": {},
   "outputs": [],
   "source": [
    "label_map = {\n",
    "    'pro science':1,\n",
    "    'center right bias':2,\n",
    "    'left center bias':2,\n",
    "    'least biased':2,\n",
    "    'reliable':2,\n",
    "    'satire':3,\n",
    "    'Parody site':3,\n",
    "    'scandal hoax':4,\n",
    "    'clickbait':4,\n",
    "    'false satire':5,\n",
    "    'Some fake stories':5,\n",
    "    'some fake stories':5,\n",
    "    'unreliable':5,    \n",
    "    'political':5,\n",
    "    'unknown':5,\n",
    "    'state':5,\n",
    "    'political disinformation':7,\n",
    "    'religious and racial disinformation':7,\n",
    "    'political and racial hoax':7,\n",
    "    'pseudojournalism and politics':7,\n",
    "    'left bias':7,\n",
    "    'right bias':7,\n",
    "    'bias':7,   \n",
    "    'hate':7,\n",
    "    'pseudojournalism blogs':7,\n",
    "    'misleading':8,\n",
    "    'fake news':8,\n",
    "    'fake/hoax':8,\n",
    "    'questionable sources':8,\n",
    "    'Imposter site':8,\n",
    "    'Fake news':8,\n",
    "    'fake':8,\n",
    "    'rumor':8,\n",
    "    'fake':8,\n",
    "    'close to Qanon':9,\n",
    "    'pseudoscience':9,\n",
    "    'pseudoscience blogs':9,\n",
    "    'pseudomedicine':9,\n",
    "    'conspiracy':9,\n",
    "    'conspiracy blogs':9,\n",
    "    'conspiracy/pseudoscience':9,\n",
    "    'conspiracy':9,\n",
    "    'junksci':9,\n",
    "    'medical and scientific disinformation':9,\n",
    "    'websites of conspiracy theorists and hoax spreaders':9,\n",
    "    'social media sites of conspiracy theorists and hoax spreaders':9,\n",
    "}"
   ]
  },
  {
   "cell_type": "code",
   "execution_count": 29,
   "id": "manufactured-invalid",
   "metadata": {},
   "outputs": [],
   "source": [
    "domain_list['harm_score'] = domain_list['label'].replace(label_map)"
   ]
  },
  {
   "cell_type": "markdown",
   "id": "innocent-infrastructure",
   "metadata": {},
   "source": [
    "## De-duplication"
   ]
  },
  {
   "cell_type": "markdown",
   "id": "temporal-politics",
   "metadata": {},
   "source": [
    "### Drop hard duplicates"
   ]
  },
  {
   "cell_type": "markdown",
   "id": "atmospheric-prime",
   "metadata": {},
   "source": [
    "Drop domains that have the same harm score across all their source lists"
   ]
  },
  {
   "cell_type": "code",
   "execution_count": 30,
   "id": "sharp-trinity",
   "metadata": {},
   "outputs": [
    {
     "name": "stdout",
     "output_type": "stream",
     "text": [
      "1230/6940 are hard duplicates\n"
     ]
    }
   ],
   "source": [
    "print('{}/{} are hard duplicates'.format(\\\n",
    "    len(domain_list) - len(domain_list.drop_duplicates(subset=['url', 'harm_score'])), \n",
    "    len(domain_list)))"
   ]
  },
  {
   "cell_type": "code",
   "execution_count": 31,
   "id": "cardiovascular-measurement",
   "metadata": {},
   "outputs": [],
   "source": [
    "domain_list = domain_list.drop_duplicates(subset=['url', 'harm_score'])"
   ]
  },
  {
   "cell_type": "markdown",
   "id": "mysterious-jacket",
   "metadata": {},
   "source": [
    "### Drop soft duplicates, keep highest harm score"
   ]
  },
  {
   "cell_type": "code",
   "execution_count": 32,
   "id": "human-remainder",
   "metadata": {},
   "outputs": [
    {
     "name": "stdout",
     "output_type": "stream",
     "text": [
      "813/5710 are soft duplicates\n"
     ]
    }
   ],
   "source": [
    "print('{}/{} are soft duplicates'.format(\\\n",
    "    len(domain_list) - len(domain_list['url'].unique()), \n",
    "    len(domain_list)))"
   ]
  },
  {
   "cell_type": "code",
   "execution_count": 33,
   "id": "municipal-concentration",
   "metadata": {},
   "outputs": [],
   "source": [
    "domain_counts = domain_list['url'].value_counts()\n",
    "soft_duplicates = domain_counts[domain_counts > 1].index"
   ]
  },
  {
   "cell_type": "code",
   "execution_count": 34,
   "id": "competent-capitol",
   "metadata": {},
   "outputs": [],
   "source": [
    "for sd in soft_duplicates:\n",
    "    sd_domains = domain_list[domain_list['url'] == sd]\n",
    "    max_HS = sd_domains['harm_score'].max()\n",
    "    entries_to_drop = sd_domains[sd_domains['harm_score'] < max_HS].index\n",
    "    domain_list = domain_list.drop(entries_to_drop)\n",
    "domain_list = domain_list.reset_index(drop=True)"
   ]
  },
  {
   "cell_type": "code",
   "execution_count": 35,
   "id": "continental-giant",
   "metadata": {},
   "outputs": [],
   "source": [
    "# make sure that the list only contains unique domains now\n",
    "assert len(domain_list) == len(domain_list['url'].unique())"
   ]
  },
  {
   "cell_type": "code",
   "execution_count": 36,
   "id": "stock-hughes",
   "metadata": {},
   "outputs": [
    {
     "name": "stdout",
     "output_type": "stream",
     "text": [
      "there are 4897 unique domains left\n"
     ]
    }
   ],
   "source": [
    "print('there are {} unique domains left'.format(len(domain_list)))"
   ]
  },
  {
   "cell_type": "code",
   "execution_count": 40,
   "id": "consecutive-occasions",
   "metadata": {},
   "outputs": [],
   "source": [
    "domain_list.to_csv('data/clean/domain_list_clean.csv', index=False)"
   ]
  },
  {
   "cell_type": "markdown",
   "id": "specified-pressure",
   "metadata": {},
   "source": [
    "## Extract disinformation domains"
   ]
  },
  {
   "cell_type": "markdown",
   "id": "breeding-citizen",
   "metadata": {},
   "source": [
    "Since this list now also includes some domains that are definitely not disinformation (\"pro-science, satire\"), and some ambiguous labels (\"fake satire\", \"state\", \"unreliable\"), we apply a broader classification, based on the harm score we assigned above. Here, we decide to rather classify a domain as \"unknown\" than \"disinformation\", if we are not sure how to classify. We therefore only assign domains with a harm score > 6 to the category \"disinformation\". "
   ]
  },
  {
   "cell_type": "code",
   "execution_count": 37,
   "id": "nonprofit-bubble",
   "metadata": {},
   "outputs": [],
   "source": [
    "harm_score_map = {\n",
    "    1:'reliable',\n",
    "    2:'reliable',\n",
    "    3:'unknown',\n",
    "    4:'unknown',\n",
    "    5:'unknown',\n",
    "    6:'unknown',\n",
    "    7:'disinformation',\n",
    "    8:'disinformation',\n",
    "    9:'disinformation'\n",
    "}"
   ]
  },
  {
   "cell_type": "code",
   "execution_count": 38,
   "id": "talented-specification",
   "metadata": {},
   "outputs": [],
   "source": [
    "domain_list['type'] = domain_list['harm_score'].replace(harm_score_map)"
   ]
  },
  {
   "cell_type": "code",
   "execution_count": 39,
   "id": "excellent-screen",
   "metadata": {},
   "outputs": [
    {
     "data": {
      "text/plain": [
       "disinformation    3036\n",
       "reliable          1489\n",
       "unknown            372\n",
       "Name: type, dtype: int64"
      ]
     },
     "execution_count": 39,
     "metadata": {},
     "output_type": "execute_result"
    }
   ],
   "source": [
    "domain_list['type'].value_counts()"
   ]
  },
  {
   "cell_type": "code",
   "execution_count": 41,
   "id": "burning-moore",
   "metadata": {},
   "outputs": [],
   "source": [
    "domain_list[domain_list['type'] == 'disinformation'].to_csv(\\\n",
    "        'data/clean/disinformation_domains_clean.csv', index=False)"
   ]
  }
 ],
 "metadata": {
  "kernelspec": {
   "display_name": "Python 3",
   "language": "python",
   "name": "python3"
  },
  "language_info": {
   "codemirror_mode": {
    "name": "ipython",
    "version": 3
   },
   "file_extension": ".py",
   "mimetype": "text/x-python",
   "name": "python",
   "nbconvert_exporter": "python",
   "pygments_lexer": "ipython3",
   "version": "3.8.8"
  },
  "metadata": {
   "interpreter": {
    "hash": "e58e63826a85aee86441113f17398760104686bf320b758b3f0c6976223ac39b"
   }
  }
 },
 "nbformat": 4,
 "nbformat_minor": 5
}
