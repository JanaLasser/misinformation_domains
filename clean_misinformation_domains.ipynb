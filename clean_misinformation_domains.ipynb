{
 "cells": [
  {
   "cell_type": "markdown",
   "id": "colored-brown",
   "metadata": {},
   "source": [
    "# A collection of domains that spread unreliable information"
   ]
  },
  {
   "cell_type": "markdown",
   "id": "elementary-spine",
   "metadata": {},
   "source": [
    "**License**: You can use the code in this script according to a [CC-BY-SA 4.0](https://creativecommons.org/licenses/by-sa/4.0/deed.en) license."
   ]
  },
  {
   "cell_type": "markdown",
   "id": "greek-victory",
   "metadata": {},
   "source": [
    "The collection started on a list of sources referenced by [Galotti et al. 2020](https://www.nature.com/articles/s41562-020-00994-6#Sec4) and was since expanded with updated versions of the initial domain collections and extended by additional curated lists. A cleaned and de-duplicated list ist stored under ```data/clean```."
   ]
  },
  {
   "cell_type": "markdown",
   "id": "facial-vacuum",
   "metadata": {},
   "source": [
    "## Collection descriptions"
   ]
  },
  {
   "cell_type": "markdown",
   "id": "valid-canvas",
   "metadata": {},
   "source": [
    "The lists that are ingested and combined into a larger list below stem from several sources. Some of them fact-checking collectives, some of them individual scholars or journalists that collected and curated lists of domains that spread unreliable information. Snapshots of the lists that were taken on May 18th 2021 are stored under ```data/raw```. The table below lists the individual collections included in this meta-list:"
   ]
  },
  {
   "cell_type": "markdown",
   "id": "front-oracle",
   "metadata": {},
   "source": [
    "| Author | Article | List source | Included | Last update | Note | License |\n",
    "| ------ | ------- | ----------- | -------- | ---------- | ---- | ------- |\n",
    "| Melissa Zimdars | https://www.washingtonpost.com/posteverything/wp/2016/11/18/my-fake-news-list-went-viral-but-made-up-stories-are-only-part-of-the-problem/ | https://docs.google.com/document/d/10eA5-mCZLSS4MQY5QGb5ewC3VAL6pLkT53V_81ZyitM/preview | yes | 2016 | It is a bit unclear when this list was last updated | [CC-BY 4.0](https://creativecommons.org/licenses/by/4.0/) |\n",
    "Buzzfeed | https://www.buzzfeednews.com/article/craigsilverman/inside-the-partisan-fight-for-your-news-feed | https://github.com/BuzzFeedNews/2017-08-partisan-sites-and-facebook-pages/tree/master/data | yes | 2018-08-08 | | none specified |\n",
    "Fake news watch | https://web.archive.org/web/20180213181029/http://www.fakenewswatch.com/ | https://web.archive.org/web/20180213181029/http://www.fakenewswatch.com/ | yes | 2016-01-18 | | none specified |\n",
    "Politifact | https://www.politifact.com/article/2017/apr/20/politifacts-guide-fake-news-websites-and-what-they/ | https://e.infogr.am/politifacts_fake_news_almanac?parent_url=https%3A%2F%2Fwww.politifact.com%2Farticle%2F2017%2Fapr%2F20%2Fpolitifacts-guide-fake-news-websites-and-what-they%2F&src=embed# | yes | 2017-11-09 | | none specified |\n",
    "Fletcher et al. | https://reutersinstitute.politics.ox.ac.uk/our-research/measuring-reach-fake-news-and-online-disinformation-europe | Is a compilation of individual smaller lists (Butac, Bufale, Bufalopedia and Décodex) in itself | see below | see below | several smaller lists, mainly focused on Italian and French misinformation spreading domains | see below |\n",
    "Butac | https://reutersinstitute.politics.ox.ac.uk/our-research/measuring-reach-fake-news-and-online-disinformation-europ | https://www.butac.it/the-black-list/ | yes | 2021-05-18 | Mostly italian sites, domain names cleaned and expanded manually, facebook pages excluded | none specified |\n",
    "Bufale | https://reutersinstitute.politics.ox.ac.uk/our-research/measuring-reach-fake-news-and-online-disinformation-europ | https://www.bufale.net/the-black-list-la-lista-nera-del-web/ | yes | 2018 | labels translated to English by italian native speaker | none specified |\n",
    "Bufalopedia | https://reutersinstitute.politics.ox.ac.uk/our-research/measuring-reach-fake-news-and-online-disinformation-europ | https://bufalopedia.blogspot.com/p/siti-creatori-di-bufale.html | yes | 2020-05-05 | Mostly Italian sites, some international, changed label of “the onion” from fake news to satire. “Fake news” label reflects international sites | none specified |\n",
    "Décodex | https://reutersinstitute.politics.ox.ac.uk/our-research/measuring-reach-fake-news-and-online-disinformation-europ | https://www.lemonde.fr/verification/ | no | unknown | French fact checking service from le Monde, no access established yet | |\n",
    "Girnberg et al. | https://science.sciencemag.org/content/363/6425/374.abstract | https://github.com/LazerLab/twitter-fake-news-replication/blob/master/domains/domain_coding/data/black_sites.txt | yes | 2019-01-28 | | none specified |\n",
    "Media bias fact check | https://mediabiasfactcheck.com/ | Various sub-sites with link lists | yes | 2021-05-21 | domains are labelled by the sub-site they appear on | none specified |\n",
    "Snopes’ field guide to fake news sites | | https://www.snopes.com/news/2016/01/14/fake-news-sites/ | see below | 2016-01-14 | one of the sources of the CJR list | see below |\n",
    "FakeNewsCodes | | http://www.fakenewscodex.com/ | see below | 2018-12-05 | one of the sources of the CJR list | see below |\n",
    "FactCheck.org | | https://www.factcheck.org/2017/07/websites-post-fake-satirical-stories/ | see below | 2018-11-02 | one of the sources of the CJR list | see below |\n",
    "Columbia Journalism review | https://www.cjr.org/fake-beta | https://www.cjr.org/fake-beta and more detailed data at https://docs.google.com/spreadsheets/d/1ck1_FZC-97uDLIlvRJDTrGqBk0FuDe9yHkluROgpGS8/edit#gid=2037798083 | yes | 2021-04 | Up-to-date compilation of lists from FactCheck.org, FakeNewsCodex, OpenSources, PolitiFact and Snopes. Entries with more than one label were expanded into several rows | none specified |"
   ]
  },
  {
   "cell_type": "code",
   "execution_count": 44,
   "id": "usual-indonesia",
   "metadata": {},
   "outputs": [],
   "source": [
    "import pandas as pd\n",
    "from os.path import join\n",
    "import seaborn as sns\n",
    "import re\n",
    "\n",
    "import requests\n",
    "import os\n",
    "import json\n",
    "import matplotlib.pyplot as plt"
   ]
  },
  {
   "cell_type": "markdown",
   "id": "pacific-concentrate",
   "metadata": {},
   "source": [
    "## Combine domain lists"
   ]
  },
  {
   "cell_type": "markdown",
   "id": "congressional-crime",
   "metadata": {},
   "source": [
    "### Read the raw data"
   ]
  },
  {
   "cell_type": "code",
   "execution_count": 45,
   "id": "suited-huntington",
   "metadata": {},
   "outputs": [],
   "source": [
    "# source/author : latest update\n",
    "sources = {'bufale':'2018',\n",
    "           'bufalopedia':'2020-05-05',\n",
    "           'butac':'2021-05-18',\n",
    "           'buzzfeed':'2017-08-08',\n",
    "           'columbia_journalism_review':'2021-04',\n",
    "           'fake_news_watch':'2016-01-18',\n",
    "           'girnberg':'2019-01-28',\n",
    "           'media_bias_fact_check':'2021-05-17',\n",
    "           'politifact':'2017-11-09',\n",
    "           'zimdars':'2016'}"
   ]
  },
  {
   "cell_type": "code",
   "execution_count": 46,
   "id": "innocent-transmission",
   "metadata": {},
   "outputs": [
    {
     "name": "stdout",
     "output_type": "stream",
     "text": [
      "bufale_2018.csv\n",
      "bufalopedia_2020-05-05.csv\n",
      "butac_2021-05-18.csv\n",
      "buzzfeed_2017-08-08.csv\n",
      "columbia_journalism_review_2021-04.csv\n",
      "fake_news_watch_2016-01-18.csv\n",
      "girnberg_2019-01-28.csv\n",
      "media_bias_fact_check_2021-05-17.csv\n",
      "politifact_2017-11-09.csv\n",
      "zimdars_2016.csv\n"
     ]
    },
    {
     "data": {
      "text/html": [
       "<div>\n",
       "<style scoped>\n",
       "    .dataframe tbody tr th:only-of-type {\n",
       "        vertical-align: middle;\n",
       "    }\n",
       "\n",
       "    .dataframe tbody tr th {\n",
       "        vertical-align: top;\n",
       "    }\n",
       "\n",
       "    .dataframe thead th {\n",
       "        text-align: right;\n",
       "    }\n",
       "</style>\n",
       "<table border=\"1\" class=\"dataframe\">\n",
       "  <thead>\n",
       "    <tr style=\"text-align: right;\">\n",
       "      <th></th>\n",
       "      <th>url</th>\n",
       "      <th>label</th>\n",
       "      <th>source</th>\n",
       "      <th>last_update</th>\n",
       "    </tr>\n",
       "  </thead>\n",
       "  <tbody>\n",
       "    <tr>\n",
       "      <th>0</th>\n",
       "      <td>http://notiziepericolose.blogspot.it/</td>\n",
       "      <td>false satire</td>\n",
       "      <td>bufale</td>\n",
       "      <td>2018</td>\n",
       "    </tr>\n",
       "    <tr>\n",
       "      <th>1</th>\n",
       "      <td>http://www.ilmattoquotidiano.it/</td>\n",
       "      <td>false satire</td>\n",
       "      <td>bufale</td>\n",
       "      <td>2018</td>\n",
       "    </tr>\n",
       "    <tr>\n",
       "      <th>2</th>\n",
       "      <td>http://www.ilmessaggio.it/</td>\n",
       "      <td>false satire</td>\n",
       "      <td>bufale</td>\n",
       "      <td>2018</td>\n",
       "    </tr>\n",
       "  </tbody>\n",
       "</table>\n",
       "</div>"
      ],
      "text/plain": [
       "                                     url         label  source last_update\n",
       "0  http://notiziepericolose.blogspot.it/  false satire  bufale        2018\n",
       "1       http://www.ilmattoquotidiano.it/  false satire  bufale        2018\n",
       "2             http://www.ilmessaggio.it/  false satire  bufale        2018"
      ]
     },
     "execution_count": 46,
     "metadata": {},
     "output_type": "execute_result"
    }
   ],
   "source": [
    "src  = 'data/raw'\n",
    "domain_list = pd.DataFrame()\n",
    "for source, updated in sources.items():\n",
    "    fname = '{}_{}.csv'.format(source, updated)\n",
    "    print(fname)\n",
    "    tmp = pd.read_csv(join(src, fname), usecols=['url', 'label'])\n",
    "    tmp['source'] = source\n",
    "    tmp['last_update'] = updated\n",
    "    domain_list = pd.concat([domain_list, tmp])\n",
    "domain_list = domain_list.reset_index(drop=True)\n",
    "domain_list.head(3)"
   ]
  },
  {
   "cell_type": "markdown",
   "id": "alert-tiger",
   "metadata": {},
   "source": [
    "### Sanitize domains"
   ]
  },
  {
   "cell_type": "code",
   "execution_count": 47,
   "id": "192da624-4dcc-47a9-896e-10141051f2fd",
   "metadata": {},
   "outputs": [],
   "source": [
    "domain_list = domain_list.dropna(subset=['url']).reset_index(drop=True)"
   ]
  },
  {
   "cell_type": "code",
   "execution_count": 48,
   "id": "c8d8909f-2398-402e-b08a-c89757777e6d",
   "metadata": {},
   "outputs": [],
   "source": [
    "# Handlabel all domains not matching an URL\n",
    "# r\"[-a-zA-Z0-9@:%._\\+~#=]{2,256}\\.[a-z]{2,}\\b([-a-zA-Z0-9@:%_\\+.~#?&//=]*)\" (adjusted from https://regexr.com/37i6s)\n",
    "src  = 'data/resources'\n",
    "dict_records = pd.read_csv(join(src, \"missing_urls.csv\")).to_dict(orient=\"records\")\n",
    "domain_list[\"url\"] = domain_list[\"url\"].replace({record[\"entry\"]: record[\"url\"] for record in dict_records})"
   ]
  },
  {
   "cell_type": "code",
   "execution_count": 49,
   "id": "724b6d2c-dd51-4c54-98d1-db270b92a91d",
   "metadata": {},
   "outputs": [],
   "source": [
    "def clean_url(url):\n",
    "    # reformat entries that have the domain after a general name in parantheses\n",
    "    enclosed_parantheses = r\".+\\s\\(([^\\(\\)]+)\\)\"\n",
    "    if re.match(enclosed_parantheses, url):\n",
    "        findings = re.findall(enclosed_parantheses, url)\n",
    "        if len(findings) > 0:\n",
    "            url = findings[-1]\n",
    "    # trailing \"/\" and spaces\n",
    "    url = url.strip('/').strip()\n",
    "    # transform all domains to lowercase\n",
    "    url = url.lower()\n",
    "    # remove any white spaces\n",
    "    url = url.replace(' ', '')\n",
    "    # if present: remove the protocol\n",
    "    if url.startswith((\"http\", \"https\")):\n",
    "        url = url.split('//')[1]\n",
    "    # remove \"www.\" \n",
    "    url = url.replace('www.', '')\n",
    "    return url"
   ]
  },
  {
   "cell_type": "code",
   "execution_count": 50,
   "id": "7f1fb332-f33b-495e-9997-495c368f562f",
   "metadata": {},
   "outputs": [],
   "source": [
    "domain_list['url'] = domain_list['url'].apply(clean_url)"
   ]
  },
  {
   "cell_type": "code",
   "execution_count": 51,
   "id": "honey-jordan",
   "metadata": {},
   "outputs": [
    {
     "data": {
      "image/png": "[encoded data removed]",
      "text/plain": [
       "<Figure size 576x360 with 1 Axes>"
      ]
     },
     "metadata": {
      "needs_background": "light"
     },
     "output_type": "display_data"
    }
   ],
   "source": [
    "fig, ax = plt.subplots(figsize=(8, 5))\n",
    "list_count = domain_list['url'].value_counts()\n",
    "ax.hist(list_count, rwidth=0.8, align='left',\n",
    "        bins=range(1, list_count.max() + 1))\n",
    "ax.set_ylabel('domain count', fontsize=16)\n",
    "ax.set_xlabel('# lists', fontsize=16)\n",
    "ax.set_xticks(range(1, list_count.max() + 1))\n",
    "ax.set_title('Duplicated domains across lists', fontsize=16)\n",
    "ax.spines['right'].set_visible(False)\n",
    "ax.spines['top'].set_visible(False)"
   ]
  },
  {
   "cell_type": "markdown",
   "id": "f5e687d7-d268-4efc-a8e1-d31474d32c20",
   "metadata": {},
   "source": [
    "### Map labels to accuracy/transparency scores and reliability types"
   ]
  },
  {
   "cell_type": "markdown",
   "id": "be23ef9d-c16a-42e3-b01e-f68487791a05",
   "metadata": {},
   "source": [
    "### Accuracy\n",
    "The accuracy score relates to the credibility or tells how fact-based the news outlet reports. It ranges from 1 (no accuracy) to 5 (high accuracy).\n",
    "\n",
    "| Label      \t        | Score \t| Description                                                                 \t|    Type    \t|\n",
    "|-------------------\t|:-----:\t|-----------------------------------------------------------------------------\t|:----------:\t|\n",
    "| False information  \t|   1   \t| No or very little accuracy (e.g. fake news, conspiracy, satire)             \t| Unreliable \t|\n",
    "| Clickbait  \t        |   2   \t| News with some truthness or facts, but actually misleading (e.g. clickbait) \t| Unreliable \t|\n",
    "| Biased     \t        |   3   \t| Mixed accuracy, hide/report half of the truth (e.g. bias, state)            \t|  Reliable  \t|\n",
    "| Mainstream \t        |   4   \t| Low bias/mainstream media (e.g. center right/left bias)                     \t|  Reliable  \t|\n",
    "| Scientific \t        |   5   \t| No bias/scientific news                                                     \t|  Reliable  \t|"
   ]
  },
  {
   "cell_type": "markdown",
   "id": "8e6bd77e-2208-40aa-b477-ff8244aa7d35",
   "metadata": {},
   "source": [
    "### Transparency\n",
    "The transparency score rates for instance how open/honest the news outlet is about telling the truth or not. It also includes a news source’s intention for fact-based reportage.\n",
    "\n",
    "| Label              \t| Score \t| Description                                                                                                                                         \t|    Type    \t|\n",
    "|--------------------\t|:-----:\t|-----------------------------------------------------------------------------------------------------------------------------------------------------\t|:----------:\t|\n",
    "| No Transparency    \t|   1   \t| Intentionally misleading or no information about editorial process (e.g. fake news, conspiracy)                                                     \t| Unreliable \t|\n",
    "| Mixed Transparency \t|   2   \t| Sites with (partially) transparent intention, but can still be misunderstood because of the way articles are written (e.g. bias, clickbait, satire) \t|  Reliable  \t|\n",
    "| Transparent        \t|   3   \t| Sites with transparent editorial or legal notice (e.g. mainstream, scientific news)                                                                 \t|  Reliable  \t|"
   ]
  },
  {
   "cell_type": "code",
   "execution_count": 52,
   "id": "5ae5cbed-23f5-48fc-b62e-f01cfc1558e2",
   "metadata": {},
   "outputs": [
    {
     "data": {
      "text/html": [
       "<div>\n",
       "<style scoped>\n",
       "    .dataframe tbody tr th:only-of-type {\n",
       "        vertical-align: middle;\n",
       "    }\n",
       "\n",
       "    .dataframe tbody tr th {\n",
       "        vertical-align: top;\n",
       "    }\n",
       "\n",
       "    .dataframe thead th {\n",
       "        text-align: right;\n",
       "    }\n",
       "</style>\n",
       "<table border=\"1\" class=\"dataframe\">\n",
       "  <thead>\n",
       "    <tr style=\"text-align: right;\">\n",
       "      <th></th>\n",
       "      <th>label</th>\n",
       "      <th>accuracy</th>\n",
       "      <th>transparency</th>\n",
       "    </tr>\n",
       "  </thead>\n",
       "  <tbody>\n",
       "    <tr>\n",
       "      <th>42</th>\n",
       "      <td>Fake news</td>\n",
       "      <td>1</td>\n",
       "      <td>1</td>\n",
       "    </tr>\n",
       "    <tr>\n",
       "      <th>41</th>\n",
       "      <td>Imposter site</td>\n",
       "      <td>1</td>\n",
       "      <td>1</td>\n",
       "    </tr>\n",
       "    <tr>\n",
       "      <th>43</th>\n",
       "      <td>Parody site</td>\n",
       "      <td>1</td>\n",
       "      <td>2</td>\n",
       "    </tr>\n",
       "    <tr>\n",
       "      <th>44</th>\n",
       "      <td>Some fake stories</td>\n",
       "      <td>2</td>\n",
       "      <td>1</td>\n",
       "    </tr>\n",
       "    <tr>\n",
       "      <th>22</th>\n",
       "      <td>bias</td>\n",
       "      <td>3</td>\n",
       "      <td>2</td>\n",
       "    </tr>\n",
       "    <tr>\n",
       "      <th>35</th>\n",
       "      <td>center right bias</td>\n",
       "      <td>4</td>\n",
       "      <td>3</td>\n",
       "    </tr>\n",
       "    <tr>\n",
       "      <th>51</th>\n",
       "      <td>clickbait</td>\n",
       "      <td>2</td>\n",
       "      <td>2</td>\n",
       "    </tr>\n",
       "    <tr>\n",
       "      <th>12</th>\n",
       "      <td>close to Qanon</td>\n",
       "      <td>1</td>\n",
       "      <td>1</td>\n",
       "    </tr>\n",
       "    <tr>\n",
       "      <th>47</th>\n",
       "      <td>conspiracy</td>\n",
       "      <td>1</td>\n",
       "      <td>1</td>\n",
       "    </tr>\n",
       "    <tr>\n",
       "      <th>19</th>\n",
       "      <td>conspiracy blogs</td>\n",
       "      <td>1</td>\n",
       "      <td>1</td>\n",
       "    </tr>\n",
       "    <tr>\n",
       "      <th>33</th>\n",
       "      <td>conspiracy/pseudoscience</td>\n",
       "      <td>1</td>\n",
       "      <td>1</td>\n",
       "    </tr>\n",
       "    <tr>\n",
       "      <th>46</th>\n",
       "      <td>fake</td>\n",
       "      <td>1</td>\n",
       "      <td>1</td>\n",
       "    </tr>\n",
       "    <tr>\n",
       "      <th>11</th>\n",
       "      <td>fake news</td>\n",
       "      <td>1</td>\n",
       "      <td>1</td>\n",
       "    </tr>\n",
       "    <tr>\n",
       "      <th>28</th>\n",
       "      <td>fake/hoax</td>\n",
       "      <td>1</td>\n",
       "      <td>1</td>\n",
       "    </tr>\n",
       "    <tr>\n",
       "      <th>0</th>\n",
       "      <td>false satire</td>\n",
       "      <td>1</td>\n",
       "      <td>1</td>\n",
       "    </tr>\n",
       "    <tr>\n",
       "      <th>53</th>\n",
       "      <td>junksci</td>\n",
       "      <td>1</td>\n",
       "      <td>1</td>\n",
       "    </tr>\n",
       "    <tr>\n",
       "      <th>38</th>\n",
       "      <td>least biased</td>\n",
       "      <td>5</td>\n",
       "      <td>3</td>\n",
       "    </tr>\n",
       "    <tr>\n",
       "      <th>37</th>\n",
       "      <td>left bias</td>\n",
       "      <td>3</td>\n",
       "      <td>2</td>\n",
       "    </tr>\n",
       "    <tr>\n",
       "      <th>36</th>\n",
       "      <td>left center bias</td>\n",
       "      <td>4</td>\n",
       "      <td>3</td>\n",
       "    </tr>\n",
       "    <tr>\n",
       "      <th>1</th>\n",
       "      <td>medical and scientific disinformation</td>\n",
       "      <td>1</td>\n",
       "      <td>1</td>\n",
       "    </tr>\n",
       "    <tr>\n",
       "      <th>9</th>\n",
       "      <td>misleading</td>\n",
       "      <td>2</td>\n",
       "      <td>1</td>\n",
       "    </tr>\n",
       "    <tr>\n",
       "      <th>52</th>\n",
       "      <td>political</td>\n",
       "      <td>3</td>\n",
       "      <td>2</td>\n",
       "    </tr>\n",
       "    <tr>\n",
       "      <th>5</th>\n",
       "      <td>political and racial hoax</td>\n",
       "      <td>1</td>\n",
       "      <td>1</td>\n",
       "    </tr>\n",
       "    <tr>\n",
       "      <th>2</th>\n",
       "      <td>political disinformation</td>\n",
       "      <td>1</td>\n",
       "      <td>1</td>\n",
       "    </tr>\n",
       "    <tr>\n",
       "      <th>40</th>\n",
       "      <td>pro science</td>\n",
       "      <td>5</td>\n",
       "      <td>3</td>\n",
       "    </tr>\n",
       "    <tr>\n",
       "      <th>14</th>\n",
       "      <td>pseudojournalism and politics</td>\n",
       "      <td>1</td>\n",
       "      <td>1</td>\n",
       "    </tr>\n",
       "    <tr>\n",
       "      <th>15</th>\n",
       "      <td>pseudojournalism blogs</td>\n",
       "      <td>1</td>\n",
       "      <td>1</td>\n",
       "    </tr>\n",
       "    <tr>\n",
       "      <th>17</th>\n",
       "      <td>pseudomedicine</td>\n",
       "      <td>1</td>\n",
       "      <td>1</td>\n",
       "    </tr>\n",
       "    <tr>\n",
       "      <th>13</th>\n",
       "      <td>pseudoscience</td>\n",
       "      <td>1</td>\n",
       "      <td>1</td>\n",
       "    </tr>\n",
       "    <tr>\n",
       "      <th>16</th>\n",
       "      <td>pseudoscience blogs</td>\n",
       "      <td>1</td>\n",
       "      <td>1</td>\n",
       "    </tr>\n",
       "    <tr>\n",
       "      <th>32</th>\n",
       "      <td>questionable sources</td>\n",
       "      <td>1</td>\n",
       "      <td>1</td>\n",
       "    </tr>\n",
       "    <tr>\n",
       "      <th>56</th>\n",
       "      <td>reliable</td>\n",
       "      <td>5</td>\n",
       "      <td>3</td>\n",
       "    </tr>\n",
       "    <tr>\n",
       "      <th>3</th>\n",
       "      <td>religious and racial disinformation</td>\n",
       "      <td>1</td>\n",
       "      <td>1</td>\n",
       "    </tr>\n",
       "    <tr>\n",
       "      <th>34</th>\n",
       "      <td>right bias</td>\n",
       "      <td>3</td>\n",
       "      <td>2</td>\n",
       "    </tr>\n",
       "    <tr>\n",
       "      <th>54</th>\n",
       "      <td>rumor</td>\n",
       "      <td>2</td>\n",
       "      <td>2</td>\n",
       "    </tr>\n",
       "    <tr>\n",
       "      <th>39</th>\n",
       "      <td>satire</td>\n",
       "      <td>1</td>\n",
       "      <td>2</td>\n",
       "    </tr>\n",
       "    <tr>\n",
       "      <th>4</th>\n",
       "      <td>scandal hoax</td>\n",
       "      <td>1</td>\n",
       "      <td>1</td>\n",
       "    </tr>\n",
       "    <tr>\n",
       "      <th>8</th>\n",
       "      <td>social media sites of conspiracy theorists and...</td>\n",
       "      <td>1</td>\n",
       "      <td>1</td>\n",
       "    </tr>\n",
       "    <tr>\n",
       "      <th>57</th>\n",
       "      <td>state</td>\n",
       "      <td>3</td>\n",
       "      <td>2</td>\n",
       "    </tr>\n",
       "    <tr>\n",
       "      <th>48</th>\n",
       "      <td>unreliable</td>\n",
       "      <td>2</td>\n",
       "      <td>1</td>\n",
       "    </tr>\n",
       "    <tr>\n",
       "      <th>7</th>\n",
       "      <td>websites of conspiracy theorists and hoax spre...</td>\n",
       "      <td>1</td>\n",
       "      <td>1</td>\n",
       "    </tr>\n",
       "  </tbody>\n",
       "</table>\n",
       "</div>"
      ],
      "text/plain": [
       "                                                label  accuracy  transparency\n",
       "42                                          Fake news         1             1\n",
       "41                                      Imposter site         1             1\n",
       "43                                        Parody site         1             2\n",
       "44                                  Some fake stories         2             1\n",
       "22                                               bias         3             2\n",
       "35                                  center right bias         4             3\n",
       "51                                          clickbait         2             2\n",
       "12                                     close to Qanon         1             1\n",
       "47                                         conspiracy         1             1\n",
       "19                                   conspiracy blogs         1             1\n",
       "33                           conspiracy/pseudoscience         1             1\n",
       "46                                               fake         1             1\n",
       "11                                          fake news         1             1\n",
       "28                                          fake/hoax         1             1\n",
       "0                                        false satire         1             1\n",
       "53                                            junksci         1             1\n",
       "38                                       least biased         5             3\n",
       "37                                          left bias         3             2\n",
       "36                                   left center bias         4             3\n",
       "1               medical and scientific disinformation         1             1\n",
       "9                                          misleading         2             1\n",
       "52                                          political         3             2\n",
       "5                           political and racial hoax         1             1\n",
       "2                            political disinformation         1             1\n",
       "40                                        pro science         5             3\n",
       "14                      pseudojournalism and politics         1             1\n",
       "15                             pseudojournalism blogs         1             1\n",
       "17                                     pseudomedicine         1             1\n",
       "13                                      pseudoscience         1             1\n",
       "16                                pseudoscience blogs         1             1\n",
       "32                               questionable sources         1             1\n",
       "56                                           reliable         5             3\n",
       "3                 religious and racial disinformation         1             1\n",
       "34                                         right bias         3             2\n",
       "54                                              rumor         2             2\n",
       "39                                             satire         1             2\n",
       "4                                        scandal hoax         1             1\n",
       "8   social media sites of conspiracy theorists and...         1             1\n",
       "57                                              state         3             2\n",
       "48                                         unreliable         2             1\n",
       "7   websites of conspiracy theorists and hoax spre...         1             1"
      ]
     },
     "execution_count": 52,
     "metadata": {},
     "output_type": "execute_result"
    }
   ],
   "source": [
    "src = \"data/resources\"\n",
    "new_labels = pd.read_csv(join(src, \"labels.csv\")).sort_values(by=\"label\")\n",
    "new_labels = new_labels.drop_duplicates().dropna()\n",
    "new_labels[[\"accuracy\", \"transparency\"]] = new_labels[[\"accuracy\", \"transparency\"]].astype(int)\n",
    "new_labels"
   ]
  },
  {
   "cell_type": "code",
   "execution_count": 53,
   "id": "2973c30e-2dc3-44a3-8d11-86e1f45032fd",
   "metadata": {},
   "outputs": [],
   "source": [
    "# Remove domains with Zimdars label \"hate\" or \"unknown\"\n",
    "# source == 'Zimdars' & (label == 'hate' | label == 'unknown')\n",
    "domain_list = domain_list.query(\"source != 'zimdars' | (label != 'hate' & label != 'unknown')\")"
   ]
  },
  {
   "cell_type": "code",
   "execution_count": 54,
   "id": "f367cc21-8311-4707-9cd2-987a1fee9eab",
   "metadata": {},
   "outputs": [],
   "source": [
    "domain_list[\"label\"] = domain_list[\"label\"].str.lower()\n",
    "new_labels[\"label\"] = new_labels[\"label\"].str.lower()\n",
    "labeled_domains = domain_list.merge(new_labels, on=\"label\", how=\"outer\")"
   ]
  },
  {
   "cell_type": "code",
   "execution_count": 55,
   "id": "a08f2e96-36b1-4835-8ee5-75bb16209ed1",
   "metadata": {},
   "outputs": [],
   "source": [
    "assert labeled_domains[[\"accuracy\", \"transparency\"]].isna().any().any() == False"
   ]
  },
  {
   "cell_type": "markdown",
   "id": "entertaining-rating",
   "metadata": {},
   "source": [
    "## De-duplication"
   ]
  },
  {
   "cell_type": "markdown",
   "id": "3ab59518-74fb-47b8-a0ac-b8e1bb764266",
   "metadata": {},
   "source": [
    "### Drop hard duplicates"
   ]
  },
  {
   "cell_type": "markdown",
   "id": "a0249c6b-b796-4326-8807-1592dc7e2749",
   "metadata": {},
   "source": [
    "Drop domains that have the same harm score across all their source lists"
   ]
  },
  {
   "cell_type": "markdown",
   "id": "professional-sewing",
   "metadata": {},
   "source": [
    "### Drop hard duplicates"
   ]
  },
  {
   "cell_type": "markdown",
   "id": "quality-implementation",
   "metadata": {},
   "source": [
    "Drop domains that have the same harm score across all their source lists"
   ]
  },
  {
   "cell_type": "code",
   "execution_count": 57,
   "id": "8b0f747e-4bda-4c25-a476-a6bfc8956895",
   "metadata": {},
   "outputs": [],
   "source": [
    "labeled_domains = labeled_domains.drop_duplicates(subset=['url', 'accuracy', 'transparency'])"
   ]
  },
  {
   "cell_type": "markdown",
   "id": "front-mills",
   "metadata": {},
   "source": [
    "### Drop soft duplicates, keep lowest accuracy/transparency score"
   ]
  },
  {
   "cell_type": "code",
   "execution_count": 58,
   "id": "cutting-pocket",
   "metadata": {},
   "outputs": [
    {
     "name": "stdout",
     "output_type": "stream",
     "text": [
      "655/5422 are soft duplicates\n"
     ]
    }
   ],
   "source": [
    "print('{}/{} are soft duplicates'.format(\\\n",
    "    len(labeled_domains) - len(labeled_domains['url'].unique()), \n",
    "    len(labeled_domains)))"
   ]
  },
  {
   "cell_type": "code",
   "execution_count": 59,
   "id": "completed-national",
   "metadata": {},
   "outputs": [],
   "source": [
    "domain_counts = labeled_domains['url'].value_counts()\n",
    "soft_duplicates = domain_counts[domain_counts > 1].index"
   ]
  },
  {
   "cell_type": "code",
   "execution_count": 60,
   "id": "8331b63b-0c80-44a4-9016-16b16bce2f92",
   "metadata": {},
   "outputs": [
    {
     "data": {
      "text/html": [
       "<div>\n",
       "<style scoped>\n",
       "    .dataframe tbody tr th:only-of-type {\n",
       "        vertical-align: middle;\n",
       "    }\n",
       "\n",
       "    .dataframe tbody tr th {\n",
       "        vertical-align: top;\n",
       "    }\n",
       "\n",
       "    .dataframe thead th {\n",
       "        text-align: right;\n",
       "    }\n",
       "</style>\n",
       "<table border=\"1\" class=\"dataframe\">\n",
       "  <thead>\n",
       "    <tr style=\"text-align: right;\">\n",
       "      <th></th>\n",
       "      <th>url</th>\n",
       "      <th>label</th>\n",
       "      <th>source</th>\n",
       "      <th>last_update</th>\n",
       "      <th>accuracy</th>\n",
       "      <th>transparency</th>\n",
       "    </tr>\n",
       "  </thead>\n",
       "  <tbody>\n",
       "    <tr>\n",
       "      <th>999</th>\n",
       "      <td>madworldnews.com</td>\n",
       "      <td>fake news</td>\n",
       "      <td>girnberg</td>\n",
       "      <td>2019-01-28</td>\n",
       "      <td>1</td>\n",
       "      <td>1</td>\n",
       "    </tr>\n",
       "    <tr>\n",
       "      <th>3991</th>\n",
       "      <td>madworldnews.com</td>\n",
       "      <td>unreliable</td>\n",
       "      <td>columbia_journalism_review</td>\n",
       "      <td>2021-04</td>\n",
       "      <td>2</td>\n",
       "      <td>1</td>\n",
       "    </tr>\n",
       "    <tr>\n",
       "      <th>126</th>\n",
       "      <td>madworldnews.com</td>\n",
       "      <td>clickbait</td>\n",
       "      <td>columbia_journalism_review</td>\n",
       "      <td>2021-04</td>\n",
       "      <td>2</td>\n",
       "      <td>2</td>\n",
       "    </tr>\n",
       "    <tr>\n",
       "      <th>3098</th>\n",
       "      <td>madworldnews.com</td>\n",
       "      <td>right bias</td>\n",
       "      <td>buzzfeed</td>\n",
       "      <td>2017-08-08</td>\n",
       "      <td>3</td>\n",
       "      <td>2</td>\n",
       "    </tr>\n",
       "  </tbody>\n",
       "</table>\n",
       "</div>"
      ],
      "text/plain": [
       "                   url       label                      source last_update  \\\n",
       "999   madworldnews.com   fake news                    girnberg  2019-01-28   \n",
       "3991  madworldnews.com  unreliable  columbia_journalism_review     2021-04   \n",
       "126   madworldnews.com   clickbait  columbia_journalism_review     2021-04   \n",
       "3098  madworldnews.com  right bias                    buzzfeed  2017-08-08   \n",
       "\n",
       "      accuracy  transparency  \n",
       "999          1             1  \n",
       "3991         2             1  \n",
       "126          2             2  \n",
       "3098         3             2  "
      ]
     },
     "execution_count": 60,
     "metadata": {},
     "output_type": "execute_result"
    }
   ],
   "source": [
    "labeled_domains[labeled_domains['url'] == 'madworldnews.com'].sort_values(by=[\"accuracy\", \"transparency\"])"
   ]
  },
  {
   "cell_type": "code",
   "execution_count": 61,
   "id": "external-vertical",
   "metadata": {},
   "outputs": [],
   "source": [
    "for sd in soft_duplicates:\n",
    "    sd_domains = labeled_domains[labeled_domains['url'] == sd].sort_values(by=[\"accuracy\", \"transparency\"])\n",
    "    labeled_domains = labeled_domains.drop(sd_domains.index[1:])    # Keep only row with minimum accuracy and transparency\n",
    "labeled_domains = labeled_domains.reset_index(drop=True)"
   ]
  },
  {
   "cell_type": "code",
   "execution_count": 62,
   "id": "veterinary-pakistan",
   "metadata": {},
   "outputs": [],
   "source": [
    "# make sure that the list only contains unique domains now\n",
    "assert len(labeled_domains) == len(labeled_domains['url'].unique())"
   ]
  },
  {
   "cell_type": "code",
   "execution_count": 65,
   "id": "dutch-falls",
   "metadata": {},
   "outputs": [
    {
     "name": "stdout",
     "output_type": "stream",
     "text": [
      "there are 4767 unique domains left\n"
     ]
    }
   ],
   "source": [
    "print('there are {} unique domains left'.format(len(labeled_domains)))"
   ]
  },
  {
   "cell_type": "code",
   "execution_count": 66,
   "id": "thick-weekly",
   "metadata": {},
   "outputs": [],
   "source": [
    "domain_list.to_csv('data/clean/domain_list_clean.csv', index=False)"
   ]
  }
 ],
 "metadata": {
  "kernelspec": {
   "display_name": "Python 3 (ipykernel)",
   "language": "python",
   "name": "python3"
  },
  "language_info": {
   "codemirror_mode": {
    "name": "ipython",
    "version": 3
   },
   "file_extension": ".py",
   "mimetype": "text/x-python",
   "name": "python",
   "nbconvert_exporter": "python",
   "pygments_lexer": "ipython3",
   "version": "3.8.5"
  },
  "metadata": {
   "interpreter": {
    "hash": "e58e63826a85aee86441113f17398760104686bf320b758b3f0c6976223ac39b"
   }
  }
 },
 "nbformat": 4,
 "nbformat_minor": 5
}
